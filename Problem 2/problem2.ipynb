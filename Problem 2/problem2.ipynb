{
 "cells": [
  {
   "cell_type": "markdown",
   "metadata": {},
   "source": [
    "## Problem 2\n",
    "Develop a model which, upon being fed with an unlabeled time series\n",
    "(which you can assume to also have an hourly frequency with no missing values), is able to\n",
    "classify each data point as normal or anomalous. Discuss whether your model could be used\n",
    "to detect outliers for future (previously unseen) data points of the series."
   ]
  },
  {
   "cell_type": "code",
   "execution_count": null,
   "metadata": {},
   "outputs": [],
   "source": []
  }
 ],
 "metadata": {
  "language_info": {
   "name": "python"
  },
  "orig_nbformat": 4
 },
 "nbformat": 4,
 "nbformat_minor": 2
}
